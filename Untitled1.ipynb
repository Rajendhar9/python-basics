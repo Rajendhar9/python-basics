{
  "nbformat": 4,
  "nbformat_minor": 0,
  "metadata": {
    "colab": {
      "provenance": []
    },
    "kernelspec": {
      "name": "python3",
      "display_name": "Python 3"
    },
    "language_info": {
      "name": "python"
    }
  },
  "cells": [
    {
      "cell_type": "markdown",
      "source": [
        "Question 1: The Road Trip Planner\n",
        "Given:\n",
        "Fuel efficiency = 11.5 km/l\n",
        "\n",
        "Trip distance = 475 km\n",
        "\n",
        "Fuel price = $1.65/l\n",
        "\n",
        "Tank capacity = 50 l"
      ],
      "metadata": {
        "id": "sYl69eWFK6K2"
      }
    },
    {
      "cell_type": "code",
      "source": [
        "distance = 475\n",
        "efficiency = 11.5\n",
        "\n",
        "fuel_needed = distance / efficiency\n",
        "print(fuel_needed)\n"
      ],
      "metadata": {
        "colab": {
          "base_uri": "https://localhost:8080/"
        },
        "id": "sktMRhnuKp3C",
        "outputId": "6b0d2cb1-3d05-4532-8751-78b7a5562967"
      },
      "execution_count": 1,
      "outputs": [
        {
          "output_type": "stream",
          "name": "stdout",
          "text": [
            "41.30434782608695\n"
          ]
        }
      ]
    },
    {
      "cell_type": "markdown",
      "source": [
        "Explanation:\n",
        "We divide the distance by fuel efficiency: 475 / 11.5"
      ],
      "metadata": {
        "id": "faWBtlGfLDbQ"
      }
    },
    {
      "cell_type": "markdown",
      "source": [
        "b. Full tanks required"
      ],
      "metadata": {
        "id": "_w44TEWyLILQ"
      }
    },
    {
      "cell_type": "code",
      "source": [
        "tank_capacity = 50\n",
        "\n",
        "full_tanks = fuel_needed // tank_capacity\n",
        "print(full_tanks)\n"
      ],
      "metadata": {
        "colab": {
          "base_uri": "https://localhost:8080/"
        },
        "id": "KJrvikaoLPiw",
        "outputId": "87ae9f26-df9e-4441-fda9-1dd4befe6839"
      },
      "execution_count": 2,
      "outputs": [
        {
          "output_type": "stream",
          "name": "stdout",
          "text": [
            "0.0\n"
          ]
        }
      ]
    },
    {
      "cell_type": "markdown",
      "source": [
        "Explanation:\n",
        "// is the floor division operator. One tank is enough; it gives 0 full additional tanks needed after the initial full tank."
      ],
      "metadata": {
        "id": "RudIWNx8LTRD"
      }
    },
    {
      "cell_type": "markdown",
      "source": [
        "c. Total fuel cost"
      ],
      "metadata": {
        "id": "YLU-kYQGLVtU"
      }
    },
    {
      "cell_type": "code",
      "source": [
        "fuel_price = 1.65\n",
        "\n",
        "total_cost = fuel_needed * fuel_price\n",
        "print(total_cost)\n"
      ],
      "metadata": {
        "colab": {
          "base_uri": "https://localhost:8080/"
        },
        "id": "NWdFHu0zLYgx",
        "outputId": "d5bd6d8d-da56-4192-e738-59b4055d4769"
      },
      "execution_count": 5,
      "outputs": [
        {
          "output_type": "stream",
          "name": "stdout",
          "text": [
            "68.15217391304347\n"
          ]
        }
      ]
    },
    {
      "cell_type": "markdown",
      "source": [
        "Explanation:\n",
        "Multiply fuel needed by price per liter."
      ],
      "metadata": {
        "id": "gycvfmcKOxTQ"
      }
    },
    {
      "cell_type": "markdown",
      "source": [
        "d. Liters of fuel remaining"
      ],
      "metadata": {
        "id": "rIAlvO32O3JM"
      }
    },
    {
      "cell_type": "code",
      "source": [
        "remaining_fuel = tank_capacity - fuel_needed\n",
        "print(remaining_fuel)\n"
      ],
      "metadata": {
        "colab": {
          "base_uri": "https://localhost:8080/"
        },
        "id": "6gF_HYiWO5WB",
        "outputId": "160d204b-734a-43be-ab11-90af1569a38d"
      },
      "execution_count": 6,
      "outputs": [
        {
          "output_type": "stream",
          "name": "stdout",
          "text": [
            "8.695652173913047\n"
          ]
        }
      ]
    },
    {
      "cell_type": "markdown",
      "source": [
        "Explanation:\n",
        "Subtract fuel used from the full tank to get what’s left.\n",
        "\n"
      ],
      "metadata": {
        "id": "3SIGMbgzO9E3"
      }
    },
    {
      "cell_type": "markdown",
      "source": [
        "Question 2: Theme Park Entry Rules\n",
        "a. Boolean Expression"
      ],
      "metadata": {
        "id": "P1hGtOeyO-NP"
      }
    },
    {
      "cell_type": "code",
      "source": [
        "age = 30\n",
        "is_weekday = True\n",
        "is_family_day = False\n",
        "group_size = 3\n",
        "\n",
        "gets_discount = ((age <= 12 and is_weekday) or (age >= 65) or (is_family_day and group_size >= 4))\n",
        "print(gets_discount)\n"
      ],
      "metadata": {
        "colab": {
          "base_uri": "https://localhost:8080/"
        },
        "id": "qJSjedjvPB_Q",
        "outputId": "d330354a-0c95-4053-f94e-5394bd0e5bb6"
      },
      "execution_count": 7,
      "outputs": [
        {
          "output_type": "stream",
          "name": "stdout",
          "text": [
            "False\n"
          ]
        }
      ]
    },
    {
      "cell_type": "markdown",
      "source": [
        "Explanation:\n",
        "\n",
        "Not a child or senior.\n",
        "\n",
        "Not a family day with 4+ group members.\n",
        "\n"
      ],
      "metadata": {
        "id": "5EMa3ILvPGEy"
      }
    },
    {
      "cell_type": "markdown",
      "source": [
        "b. New variables"
      ],
      "metadata": {
        "id": "VsMyO32sPHH8"
      }
    },
    {
      "cell_type": "code",
      "source": [
        "age = 10\n",
        "is_weekday = True\n",
        "is_family_day = False\n",
        "group_size = 2\n",
        "\n",
        "gets_discount = ((age <= 12 and is_weekday) or (age >= 65) or (is_family_day and group_size >= 4))\n",
        "print(gets_discount)\n"
      ],
      "metadata": {
        "colab": {
          "base_uri": "https://localhost:8080/"
        },
        "id": "diODF-yZPJ7i",
        "outputId": "12e11a4a-67bf-49bd-d692-c4cf18cb580c"
      },
      "execution_count": 8,
      "outputs": [
        {
          "output_type": "stream",
          "name": "stdout",
          "text": [
            "True\n"
          ]
        }
      ]
    },
    {
      "cell_type": "markdown",
      "source": [
        "c. Evaluation Explanation:\n",
        "\n",
        "age <= 12 → True\n",
        "\n",
        "is_weekday → True\n",
        "\n",
        "So (age <= 12 and is_weekday) → True\n",
        "\n",
        "Other conditions are not evaluated further due to short-circuiting or."
      ],
      "metadata": {
        "id": "fjrPcB01PZjT"
      }
    },
    {
      "cell_type": "markdown",
      "source": [
        "Section 3: String Data Types, Indexing & Slicing\n",
        "python\n",
        "Copy\n",
        "Edit\n"
      ],
      "metadata": {
        "id": "9P_54sGdPaqJ"
      }
    },
    {
      "cell_type": "code",
      "source": [
        "secret_message = \"PyThoN_Is_FuN_AnD_PoWeRfUl!\"\n"
      ],
      "metadata": {
        "id": "bhtn8qvYPguS"
      },
      "execution_count": 9,
      "outputs": []
    },
    {
      "cell_type": "markdown",
      "source": [
        "a. Character at index 5"
      ],
      "metadata": {
        "id": "n06CONY7Plc7"
      }
    },
    {
      "cell_type": "code",
      "source": [
        "print(secret_message[5])\n"
      ],
      "metadata": {
        "colab": {
          "base_uri": "https://localhost:8080/"
        },
        "id": "jvShBVPtPmNl",
        "outputId": "933023cc-8ec0-474c-ae0f-145cbdb60fa6"
      },
      "execution_count": 10,
      "outputs": [
        {
          "output_type": "stream",
          "name": "stdout",
          "text": [
            "N\n"
          ]
        }
      ]
    },
    {
      "cell_type": "markdown",
      "source": [
        "b. Substring \"Is_FuN\""
      ],
      "metadata": {
        "id": "t-6XPpb4Pqs6"
      }
    },
    {
      "cell_type": "code",
      "source": [
        "substring = secret_message[7:13]\n",
        "print(substring)\n"
      ],
      "metadata": {
        "colab": {
          "base_uri": "https://localhost:8080/"
        },
        "id": "7evwGOYXPrP_",
        "outputId": "7b6d4f41-282e-48b5-f84f-31a3295ad9cc"
      },
      "execution_count": 11,
      "outputs": [
        {
          "output_type": "stream",
          "name": "stdout",
          "text": [
            "Is_FuN\n"
          ]
        }
      ]
    },
    {
      "cell_type": "markdown",
      "source": [
        "c. Substring \"PoWeRfUl\" using negative indexing\n",
        "\n",
        "python\n",
        "Copy\n",
        "Edit\n"
      ],
      "metadata": {
        "id": "N6ejzdvWPtzH"
      }
    },
    {
      "cell_type": "code",
      "source": [
        "print(secret_message[-9:-1])\n"
      ],
      "metadata": {
        "colab": {
          "base_uri": "https://localhost:8080/"
        },
        "id": "07xE2tO7PwGc",
        "outputId": "4295c0ee-f44a-4578-8b23-ff289ceec6d0"
      },
      "execution_count": 12,
      "outputs": [
        {
          "output_type": "stream",
          "name": "stdout",
          "text": [
            "PoWeRfUl\n"
          ]
        }
      ]
    },
    {
      "cell_type": "markdown",
      "source": [
        "d. Every 4th character"
      ],
      "metadata": {
        "id": "7jO00YaYP0ZJ"
      }
    },
    {
      "cell_type": "code",
      "source": [
        "every_4th = secret_message[0::4]\n",
        "print(every_4th)\n"
      ],
      "metadata": {
        "colab": {
          "base_uri": "https://localhost:8080/"
        },
        "id": "qFnbi2kRP09j",
        "outputId": "a8191efd-d7e6-4892-a9fb-9d1496ed27f9"
      },
      "execution_count": 13,
      "outputs": [
        {
          "output_type": "stream",
          "name": "stdout",
          "text": [
            "PosNDWU\n"
          ]
        }
      ]
    },
    {
      "cell_type": "markdown",
      "source": [
        "e. Accessing index 50"
      ],
      "metadata": {
        "id": "uu8u9ooLP5OV"
      }
    },
    {
      "cell_type": "code",
      "source": [
        "print(secret_message[50])\n"
      ],
      "metadata": {
        "colab": {
          "base_uri": "https://localhost:8080/",
          "height": 141
        },
        "id": "HcW6uB-bP6Ef",
        "outputId": "526dbf1d-c52b-4213-bc04-d10cccce9587"
      },
      "execution_count": 14,
      "outputs": [
        {
          "output_type": "error",
          "ename": "IndexError",
          "evalue": "string index out of range",
          "traceback": [
            "\u001b[0;31m---------------------------------------------------------------------------\u001b[0m",
            "\u001b[0;31mIndexError\u001b[0m                                Traceback (most recent call last)",
            "\u001b[0;32m<ipython-input-14-284b9c66f6bb>\u001b[0m in \u001b[0;36m<cell line: 0>\u001b[0;34m()\u001b[0m\n\u001b[0;32m----> 1\u001b[0;31m \u001b[0mprint\u001b[0m\u001b[0;34m(\u001b[0m\u001b[0msecret_message\u001b[0m\u001b[0;34m[\u001b[0m\u001b[0;36m50\u001b[0m\u001b[0;34m]\u001b[0m\u001b[0;34m)\u001b[0m\u001b[0;34m\u001b[0m\u001b[0;34m\u001b[0m\u001b[0m\n\u001b[0m",
            "\u001b[0;31mIndexError\u001b[0m: string index out of range"
          ]
        }
      ]
    },
    {
      "cell_type": "markdown",
      "source": [
        "Explanation:\n",
        "secret_message has only 26 characters. Index 50 is out of range.\n",
        "\n"
      ],
      "metadata": {
        "id": "6BlZRQnDP-8X"
      }
    },
    {
      "cell_type": "markdown",
      "source": [
        "Section 4: Boolean Values & Expressions"
      ],
      "metadata": {
        "id": "qfaXy2tAQEqB"
      }
    },
    {
      "cell_type": "code",
      "source": [
        "x = 15\n",
        "y = 25\n",
        "z = 15\n",
        "text = \"adventure\"\n"
      ],
      "metadata": {
        "id": "_lsZzcOaQGsh"
      },
      "execution_count": 15,
      "outputs": []
    },
    {
      "cell_type": "markdown",
      "source": [
        "a. (x == z) and (y > x)"
      ],
      "metadata": {
        "id": "_6Jb4ulSQLCz"
      }
    },
    {
      "cell_type": "code",
      "source": [
        "print((x == z) and (y > x))  # Predict: True\n"
      ],
      "metadata": {
        "colab": {
          "base_uri": "https://localhost:8080/"
        },
        "id": "YbmtFJiUQLuU",
        "outputId": "85ed8f24-6985-490e-cf76-784e4326bc22"
      },
      "execution_count": 16,
      "outputs": [
        {
          "output_type": "stream",
          "name": "stdout",
          "text": [
            "True\n"
          ]
        }
      ]
    },
    {
      "cell_type": "markdown",
      "source": [
        "b. (x != z) or (y < x) or (len(text) < 5)\n",
        "\n",
        "python\n",
        "Copy\n",
        "Edit\n"
      ],
      "metadata": {
        "id": "cfrXr23fQOKD"
      }
    },
    {
      "cell_type": "code",
      "source": [
        "print((x != z) or (y < x) or (len(text) < 5))  # Predict: False\n"
      ],
      "metadata": {
        "colab": {
          "base_uri": "https://localhost:8080/"
        },
        "id": "y0WbkEVsQQiw",
        "outputId": "b318d77c-cafa-4a41-8300-5cd8fa420300"
      },
      "execution_count": 17,
      "outputs": [
        {
          "output_type": "stream",
          "name": "stdout",
          "text": [
            "False\n"
          ]
        }
      ]
    },
    {
      "cell_type": "markdown",
      "source": [
        "c. not ((x > y) and (text == \"Adventure\"))"
      ],
      "metadata": {
        "id": "w6_FgPv5SZyd"
      }
    },
    {
      "cell_type": "code",
      "source": [
        "print(not ((x > y) and (text == \"Adventure\")))  # Predict: True\n"
      ],
      "metadata": {
        "colab": {
          "base_uri": "https://localhost:8080/"
        },
        "id": "VWNDEF0iSafl",
        "outputId": "16bcbf72-05c6-4e17-c596-9fb7aa80e951"
      },
      "execution_count": 18,
      "outputs": [
        {
          "output_type": "stream",
          "name": "stdout",
          "text": [
            "True\n"
          ]
        }
      ]
    },
    {
      "cell_type": "markdown",
      "source": [
        "Explanation:\n",
        "\n",
        "x > y is False → False and ... → False\n",
        "\n",
        "not False → True"
      ],
      "metadata": {
        "id": "U4eJ1TbqSdKb"
      }
    },
    {
      "cell_type": "markdown",
      "source": [
        "Section 5: String Properties & Methods\n",
        "a. username[0] = 'm'"
      ],
      "metadata": {
        "id": "zSQd9y8ESgXq"
      }
    },
    {
      "cell_type": "markdown",
      "source": [
        "a. username[0] = 'm'"
      ],
      "metadata": {
        "id": "WcRiZAjSSrCJ"
      }
    },
    {
      "cell_type": "code",
      "source": [
        "username = \"MyUser123\"\n",
        "username[0] = 'm'  # Raises error\n"
      ],
      "metadata": {
        "colab": {
          "base_uri": "https://localhost:8080/",
          "height": 158
        },
        "id": "lZxLI-QnSrwE",
        "outputId": "96184f66-fade-4d2e-c6ff-ecc767fa15c0"
      },
      "execution_count": 19,
      "outputs": [
        {
          "output_type": "error",
          "ename": "TypeError",
          "evalue": "'str' object does not support item assignment",
          "traceback": [
            "\u001b[0;31m---------------------------------------------------------------------------\u001b[0m",
            "\u001b[0;31mTypeError\u001b[0m                                 Traceback (most recent call last)",
            "\u001b[0;32m<ipython-input-19-a6534cb4cd5a>\u001b[0m in \u001b[0;36m<cell line: 0>\u001b[0;34m()\u001b[0m\n\u001b[1;32m      1\u001b[0m \u001b[0musername\u001b[0m \u001b[0;34m=\u001b[0m \u001b[0;34m\"MyUser123\"\u001b[0m\u001b[0;34m\u001b[0m\u001b[0;34m\u001b[0m\u001b[0m\n\u001b[0;32m----> 2\u001b[0;31m \u001b[0musername\u001b[0m\u001b[0;34m[\u001b[0m\u001b[0;36m0\u001b[0m\u001b[0;34m]\u001b[0m \u001b[0;34m=\u001b[0m \u001b[0;34m'm'\u001b[0m  \u001b[0;31m# Raises error\u001b[0m\u001b[0;34m\u001b[0m\u001b[0;34m\u001b[0m\u001b[0m\n\u001b[0m",
            "\u001b[0;31mTypeError\u001b[0m: 'str' object does not support item assignment"
          ]
        }
      ]
    },
    {
      "cell_type": "markdown",
      "source": [
        "Explanation:\n",
        "Strings are immutable in Python; you cannot change characters by index."
      ],
      "metadata": {
        "id": "w6dw4w4oSwxH"
      }
    },
    {
      "cell_type": "markdown",
      "source": [
        "b. Transform the quote\n",
        "\n"
      ],
      "metadata": {
        "id": "Ftbs34EXSxpF"
      }
    },
    {
      "cell_type": "code",
      "source": [
        "quote = \" practice makes perfect \"\n",
        "\n",
        "formatted_quote = quote.strip().upper().replace(\"PERFECT\", \"PROGRESS\")\n",
        "print(formatted_quote)\n"
      ],
      "metadata": {
        "colab": {
          "base_uri": "https://localhost:8080/"
        },
        "id": "J-FvJ8iTS7a_",
        "outputId": "67ad954f-c404-4ed9-c622-353b74b62777"
      },
      "execution_count": 20,
      "outputs": [
        {
          "output_type": "stream",
          "name": "stdout",
          "text": [
            "PRACTICE MAKES PROGRESS\n"
          ]
        }
      ]
    },
    {
      "cell_type": "markdown",
      "source": [
        "Explanation:\n",
        "\n",
        "strip() removes whitespace\n",
        "\n",
        "upper() converts to uppercase\n",
        "\n",
        "replace() substitutes one word for another"
      ],
      "metadata": {
        "id": "RK6PiHkLS-8i"
      }
    },
    {
      "cell_type": "markdown",
      "source": [
        "c. Lengths"
      ],
      "metadata": {
        "id": "i83fz_ZzTAYx"
      }
    },
    {
      "cell_type": "code",
      "source": [
        "original_length = len(quote)\n",
        "formatted_length = len(formatted_quote)\n",
        "\n",
        "print(original_length)   # With spaces\n",
        "print(formatted_length)  # After formatting\n"
      ],
      "metadata": {
        "colab": {
          "base_uri": "https://localhost:8080/"
        },
        "id": "ylAUuOW1TElq",
        "outputId": "a017f470-84a0-4f4d-9ea5-7107fbfd9c41"
      },
      "execution_count": 21,
      "outputs": [
        {
          "output_type": "stream",
          "name": "stdout",
          "text": [
            "24\n",
            "23\n"
          ]
        }
      ]
    }
  ]
}