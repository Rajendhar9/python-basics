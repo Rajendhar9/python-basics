{
  "nbformat": 4,
  "nbformat_minor": 0,
  "metadata": {
    "colab": {
      "provenance": []
    },
    "kernelspec": {
      "name": "python3",
      "display_name": "Python 3"
    },
    "language_info": {
      "name": "python"
    }
  },
  "cells": [
    {
      "cell_type": "markdown",
      "source": [],
      "metadata": {
        "id": "w7o7Xchf-5Fl"
      }
    },
    {
      "cell_type": "markdown",
      "source": [
        "Question 1: The Road Trip Planner\n",
        "Given:\n",
        "Fuel efficiency = 11.5 km/l\n",
        "\n",
        "Trip distance = 475 km\n",
        "\n",
        "Fuel price = $1.65/l\n",
        "\n",
        "Tank capacity = 50 l"
      ],
      "metadata": {
        "id": "Yazfz2tV-7Gy"
      }
    },
    {
      "cell_type": "markdown",
      "source": [
        "a. Liters of fuel needed"
      ],
      "metadata": {
        "id": "_m4FnnED_B4C"
      }
    },
    {
      "cell_type": "code",
      "source": [
        "distance = 475\n",
        "efficiency = 11.5\n",
        "\n",
        "fuel_needed = distance / efficiency\n",
        "print(fuel_needed)\n"
      ],
      "metadata": {
        "colab": {
          "base_uri": "https://localhost:8080/"
        },
        "id": "PYyfIaLu_Csv",
        "outputId": "d927e80b-6a2c-4bdd-eae7-27fccc1a0ac1"
      },
      "execution_count": 1,
      "outputs": [
        {
          "output_type": "stream",
          "name": "stdout",
          "text": [
            "41.30434782608695\n"
          ]
        }
      ]
    },
    {
      "cell_type": "markdown",
      "source": [
        "Explanation:\n",
        "We divide the distance by fuel efficiency: 475 / 11.5."
      ],
      "metadata": {
        "id": "NLFQV7Wy_JsR"
      }
    },
    {
      "cell_type": "markdown",
      "source": [
        "b. Full tanks required\n"
      ],
      "metadata": {
        "id": "R28C3eQL_Kk9"
      }
    },
    {
      "cell_type": "code",
      "source": [
        "tank_capacity = 50\n",
        "\n",
        "full_tanks = fuel_needed // tank_capacity\n",
        "print(full_tanks)\n"
      ],
      "metadata": {
        "colab": {
          "base_uri": "https://localhost:8080/"
        },
        "id": "X4qfzLgV_RmF",
        "outputId": "5f76fa03-52bd-413e-c8ac-9c7316e2eb5e"
      },
      "execution_count": 2,
      "outputs": [
        {
          "output_type": "stream",
          "name": "stdout",
          "text": [
            "0.0\n"
          ]
        }
      ]
    },
    {
      "cell_type": "markdown",
      "source": [
        "Explanation:\n",
        "// is the floor division operator. One tank is enough; it gives 0 full additional tanks needed after the initial full tank."
      ],
      "metadata": {
        "id": "GPNacuGX_WxY"
      }
    },
    {
      "cell_type": "markdown",
      "source": [
        "c. Total fuel cost"
      ],
      "metadata": {
        "id": "e4T25Ls1_X4e"
      }
    },
    {
      "cell_type": "code",
      "source": [
        "fuel_price = 1.65\n",
        "\n",
        "total_cost = fuel_needed * fuel_price\n",
        "print(total_cost)\n"
      ],
      "metadata": {
        "colab": {
          "base_uri": "https://localhost:8080/"
        },
        "id": "APMkbwpT_aYh",
        "outputId": "3cd2b1f6-77b1-4a45-9227-07fb404124bf"
      },
      "execution_count": 3,
      "outputs": [
        {
          "output_type": "stream",
          "name": "stdout",
          "text": [
            "68.15217391304347\n"
          ]
        }
      ]
    },
    {
      "cell_type": "markdown",
      "source": [
        "Explanation:\n",
        "Multiply fuel needed by price per liter.\n",
        "\n"
      ],
      "metadata": {
        "id": "76W4dmw9_cjy"
      }
    },
    {
      "cell_type": "markdown",
      "source": [
        "d. Liters of fuel remaining"
      ],
      "metadata": {
        "id": "c6hniPYD_faM"
      }
    },
    {
      "cell_type": "code",
      "source": [
        "remaining_fuel = tank_capacity - fuel_needed\n",
        "print(remaining_fuel)\n"
      ],
      "metadata": {
        "colab": {
          "base_uri": "https://localhost:8080/"
        },
        "id": "XzWgcTLc_h_9",
        "outputId": "d59705ce-2d8a-41df-a032-ae2bd90f785f"
      },
      "execution_count": 4,
      "outputs": [
        {
          "output_type": "stream",
          "name": "stdout",
          "text": [
            "8.695652173913047\n"
          ]
        }
      ]
    },
    {
      "cell_type": "markdown",
      "source": [
        "Explanation:\n",
        "Subtract fuel used from the full tank to get what’s left."
      ],
      "metadata": {
        "id": "NIpNyyOq_lMJ"
      }
    },
    {
      "cell_type": "markdown",
      "source": [
        "Section 2: Comparison & Logical Operators\n",
        "Question 2: Theme Park Entry Rules\n"
      ],
      "metadata": {
        "id": "TmUmgNyN_njv"
      }
    },
    {
      "cell_type": "markdown",
      "source": [
        "a. Boolean Expression"
      ],
      "metadata": {
        "id": "rutUtsXH_skw"
      }
    },
    {
      "cell_type": "code",
      "source": [
        "age = 30\n",
        "is_weekday = True\n",
        "is_family_day = False\n",
        "group_size = 3\n",
        "\n",
        "gets_discount = ((age <= 12 and is_weekday) or (age >= 65) or (is_family_day and group_size >= 4))\n",
        "print(gets_discount)\n"
      ],
      "metadata": {
        "colab": {
          "base_uri": "https://localhost:8080/"
        },
        "id": "EaexC1Rt_tJi",
        "outputId": "c1af612b-6a3d-41f0-9399-c56f8598c149"
      },
      "execution_count": 5,
      "outputs": [
        {
          "output_type": "stream",
          "name": "stdout",
          "text": [
            "False\n"
          ]
        }
      ]
    },
    {
      "cell_type": "markdown",
      "source": [
        "Explanation:\n",
        "\n",
        "Not a child or senior.\n",
        "\n",
        "Not a family day with 4+ group members"
      ],
      "metadata": {
        "id": "KwN9QAS-_xRr"
      }
    },
    {
      "cell_type": "markdown",
      "source": [
        "b. New variables"
      ],
      "metadata": {
        "id": "AfBxFd4r_x_b"
      }
    },
    {
      "cell_type": "code",
      "source": [
        "age = 10\n",
        "is_weekday = True\n",
        "is_family_day = False\n",
        "group_size = 2\n",
        "\n",
        "gets_discount = ((age <= 12 and is_weekday) or (age >= 65) or (is_family_day and group_size >= 4))\n",
        "print(gets_discount)\n"
      ],
      "metadata": {
        "colab": {
          "base_uri": "https://localhost:8080/"
        },
        "id": "-ZLteFnW_0eA",
        "outputId": "b946a789-a98a-4ded-a25a-81a6fe0581ca"
      },
      "execution_count": 6,
      "outputs": [
        {
          "output_type": "stream",
          "name": "stdout",
          "text": [
            "True\n"
          ]
        }
      ]
    },
    {
      "cell_type": "markdown",
      "source": [
        "c. Evaluation Explanation:\n",
        "\n",
        "age <= 12 → True\n",
        "\n",
        "is_weekday → True\n",
        "\n",
        "So (age <= 12 and is_weekday) → True\n",
        "\n",
        "Other conditions are not evaluated further due to short-circuiting or.\n",
        "\n"
      ],
      "metadata": {
        "id": "us9Hh-8s_25_"
      }
    },
    {
      "cell_type": "markdown",
      "source": [
        "Section 3: String Data Types, Indexing & Slicing\n"
      ],
      "metadata": {
        "id": "OSljfTzT_7-z"
      }
    },
    {
      "cell_type": "code",
      "source": [
        "secret_message = \"PyThoN_Is_FuN_AnD_PoWeRfUl!\"\n"
      ],
      "metadata": {
        "id": "CYmbT6Df__4x"
      },
      "execution_count": 7,
      "outputs": []
    },
    {
      "cell_type": "markdown",
      "source": [
        "a. Character at index 5"
      ],
      "metadata": {
        "id": "6ztum7WgACtp"
      }
    },
    {
      "cell_type": "code",
      "source": [
        "print(secret_message[5])\n"
      ],
      "metadata": {
        "colab": {
          "base_uri": "https://localhost:8080/"
        },
        "id": "rM9z9w93AE9q",
        "outputId": "540350fd-c01c-4b46-a461-86d47f76b553"
      },
      "execution_count": 8,
      "outputs": [
        {
          "output_type": "stream",
          "name": "stdout",
          "text": [
            "N\n"
          ]
        }
      ]
    },
    {
      "cell_type": "markdown",
      "source": [
        "b. Substring \"Is_FuN\""
      ],
      "metadata": {
        "id": "Wd5hAfZrAIep"
      }
    },
    {
      "cell_type": "code",
      "source": [
        "substring = secret_message[7:13]\n",
        "print(substring)\n"
      ],
      "metadata": {
        "colab": {
          "base_uri": "https://localhost:8080/"
        },
        "id": "WhRQyvwzAJMd",
        "outputId": "5f2b8b91-950c-4ccc-dff0-ce2160df8d40"
      },
      "execution_count": 9,
      "outputs": [
        {
          "output_type": "stream",
          "name": "stdout",
          "text": [
            "Is_FuN\n"
          ]
        }
      ]
    },
    {
      "cell_type": "markdown",
      "source": [
        "c. Substring \"PoWeRfUl\" using negative indexing\n"
      ],
      "metadata": {
        "id": "ADsTkGSZALuL"
      }
    },
    {
      "cell_type": "code",
      "source": [
        "print(secret_message[-9:-1])\n"
      ],
      "metadata": {
        "colab": {
          "base_uri": "https://localhost:8080/"
        },
        "id": "JpZu96jqAPKh",
        "outputId": "e6e32b30-fd5d-427d-e26d-cc33a642a619"
      },
      "execution_count": 10,
      "outputs": [
        {
          "output_type": "stream",
          "name": "stdout",
          "text": [
            "PoWeRfUl\n"
          ]
        }
      ]
    },
    {
      "cell_type": "markdown",
      "source": [
        "d. Every 4th character"
      ],
      "metadata": {
        "id": "a2dovRRvATVt"
      }
    },
    {
      "cell_type": "code",
      "source": [
        "every_4th = secret_message[0::4]\n",
        "print(every_4th)\n",
        "\n"
      ],
      "metadata": {
        "colab": {
          "base_uri": "https://localhost:8080/"
        },
        "id": "fOS8vDACAVOe",
        "outputId": "917129a4-ae04-4b1b-c48a-eff3a5cf83be"
      },
      "execution_count": 12,
      "outputs": [
        {
          "output_type": "stream",
          "name": "stdout",
          "text": [
            "PosNDWU\n"
          ]
        }
      ]
    },
    {
      "cell_type": "markdown",
      "source": [
        "e. Accessing index 50"
      ],
      "metadata": {
        "id": "eu9KPzivAcI7"
      }
    },
    {
      "cell_type": "code",
      "source": [
        "print(secret_message[50])\n"
      ],
      "metadata": {
        "colab": {
          "base_uri": "https://localhost:8080/",
          "height": 141
        },
        "id": "hXML8pAmAeoo",
        "outputId": "13e6056f-b253-46b2-92b2-45920489bae2"
      },
      "execution_count": 13,
      "outputs": [
        {
          "output_type": "error",
          "ename": "IndexError",
          "evalue": "string index out of range",
          "traceback": [
            "\u001b[0;31m---------------------------------------------------------------------------\u001b[0m",
            "\u001b[0;31mIndexError\u001b[0m                                Traceback (most recent call last)",
            "\u001b[0;32m<ipython-input-13-284b9c66f6bb>\u001b[0m in \u001b[0;36m<cell line: 0>\u001b[0;34m()\u001b[0m\n\u001b[0;32m----> 1\u001b[0;31m \u001b[0mprint\u001b[0m\u001b[0;34m(\u001b[0m\u001b[0msecret_message\u001b[0m\u001b[0;34m[\u001b[0m\u001b[0;36m50\u001b[0m\u001b[0;34m]\u001b[0m\u001b[0;34m)\u001b[0m\u001b[0;34m\u001b[0m\u001b[0;34m\u001b[0m\u001b[0m\n\u001b[0m",
            "\u001b[0;31mIndexError\u001b[0m: string index out of range"
          ]
        }
      ]
    },
    {
      "cell_type": "markdown",
      "source": [
        "Explanation:\n",
        "secret_message has only 26 characters. Index 50 is out of range."
      ],
      "metadata": {
        "id": "ILhkSrifAij4"
      }
    },
    {
      "cell_type": "markdown",
      "source": [
        "Section 4: Boolean Values & Expressions\n"
      ],
      "metadata": {
        "id": "6AUZZRT_AjVZ"
      }
    },
    {
      "cell_type": "code",
      "source": [
        "x = 15\n",
        "y = 25\n",
        "z = 15\n",
        "text = \"adventure\"\n"
      ],
      "metadata": {
        "id": "AOsjFM8vAmlC"
      },
      "execution_count": 14,
      "outputs": []
    },
    {
      "cell_type": "markdown",
      "source": [
        "a. (x == z) and (y > x)"
      ],
      "metadata": {
        "id": "bgatxNAmAqaJ"
      }
    },
    {
      "cell_type": "code",
      "source": [
        "print((x == z) and (y > x))  # Predict: True\n"
      ],
      "metadata": {
        "colab": {
          "base_uri": "https://localhost:8080/"
        },
        "id": "aBU-7aktArQ_",
        "outputId": "624fc252-1694-4f03-9bc4-8399568ff25d"
      },
      "execution_count": 15,
      "outputs": [
        {
          "output_type": "stream",
          "name": "stdout",
          "text": [
            "True\n"
          ]
        }
      ]
    },
    {
      "cell_type": "markdown",
      "source": [
        "b. (x != z) or (y < x) or (len(text) < 5)"
      ],
      "metadata": {
        "id": "WQmmRGucAtfZ"
      }
    },
    {
      "cell_type": "code",
      "source": [
        "print((x != z) or (y < x) or (len(text) < 5))  # Predict: False\n"
      ],
      "metadata": {
        "colab": {
          "base_uri": "https://localhost:8080/"
        },
        "id": "xfenFp4bAv-P",
        "outputId": "8aff84d5-dea7-4c35-cd3f-015f656dadfb"
      },
      "execution_count": 16,
      "outputs": [
        {
          "output_type": "stream",
          "name": "stdout",
          "text": [
            "False\n"
          ]
        }
      ]
    },
    {
      "cell_type": "markdown",
      "source": [
        "c. not ((x > y) and (text == \"Adventure\"))\n",
        "\n"
      ],
      "metadata": {
        "id": "eGvgE3TDAyIQ"
      }
    },
    {
      "cell_type": "code",
      "source": [
        "print(not ((x > y) and (text == \"Adventure\")))  # Predict: True\n"
      ],
      "metadata": {
        "colab": {
          "base_uri": "https://localhost:8080/"
        },
        "id": "3JVp5EQ8A2Lg",
        "outputId": "16a1fbc9-b083-4ee3-c7b5-c51f511d17af"
      },
      "execution_count": 17,
      "outputs": [
        {
          "output_type": "stream",
          "name": "stdout",
          "text": [
            "True\n"
          ]
        }
      ]
    },
    {
      "cell_type": "markdown",
      "source": [
        "Explanation:\n",
        "\n",
        "x > y is False → False and ... → False\n",
        "\n",
        "not False → True"
      ],
      "metadata": {
        "id": "UOFmLTMhA4Qn"
      }
    },
    {
      "cell_type": "markdown",
      "source": [
        "Section 5: String Properties & Methods\n",
        "a. username[0] = 'm'"
      ],
      "metadata": {
        "id": "qSIyKkJBA65M"
      }
    },
    {
      "cell_type": "code",
      "source": [
        "username = \"MyUser123\"\n",
        "username[0] = 'm'  # Raises error\n"
      ],
      "metadata": {
        "colab": {
          "base_uri": "https://localhost:8080/",
          "height": 158
        },
        "id": "btaXopDZBAHT",
        "outputId": "f2ef8f21-7900-42f9-d74c-ff460735b498"
      },
      "execution_count": 18,
      "outputs": [
        {
          "output_type": "error",
          "ename": "TypeError",
          "evalue": "'str' object does not support item assignment",
          "traceback": [
            "\u001b[0;31m---------------------------------------------------------------------------\u001b[0m",
            "\u001b[0;31mTypeError\u001b[0m                                 Traceback (most recent call last)",
            "\u001b[0;32m<ipython-input-18-a6534cb4cd5a>\u001b[0m in \u001b[0;36m<cell line: 0>\u001b[0;34m()\u001b[0m\n\u001b[1;32m      1\u001b[0m \u001b[0musername\u001b[0m \u001b[0;34m=\u001b[0m \u001b[0;34m\"MyUser123\"\u001b[0m\u001b[0;34m\u001b[0m\u001b[0;34m\u001b[0m\u001b[0m\n\u001b[0;32m----> 2\u001b[0;31m \u001b[0musername\u001b[0m\u001b[0;34m[\u001b[0m\u001b[0;36m0\u001b[0m\u001b[0;34m]\u001b[0m \u001b[0;34m=\u001b[0m \u001b[0;34m'm'\u001b[0m  \u001b[0;31m# Raises error\u001b[0m\u001b[0;34m\u001b[0m\u001b[0;34m\u001b[0m\u001b[0m\n\u001b[0m",
            "\u001b[0;31mTypeError\u001b[0m: 'str' object does not support item assignment"
          ]
        }
      ]
    },
    {
      "cell_type": "markdown",
      "source": [
        "Explanation:\n",
        "Strings are immutable in Python; you cannot change characters by index."
      ],
      "metadata": {
        "id": "tX8zXU11BDPd"
      }
    },
    {
      "cell_type": "markdown",
      "source": [
        "b. Transform the quote"
      ],
      "metadata": {
        "id": "Lj64HTbwBFk-"
      }
    },
    {
      "cell_type": "code",
      "source": [
        "quote = \" practice makes perfect \"\n",
        "\n",
        "formatted_quote = quote.strip().upper().replace(\"PERFECT\", \"PROGRESS\")\n",
        "print(formatted_quote)\n"
      ],
      "metadata": {
        "colab": {
          "base_uri": "https://localhost:8080/"
        },
        "id": "_dhqyS1SBHrZ",
        "outputId": "07752dc0-ac79-4cec-eaa0-47e3fabad60e"
      },
      "execution_count": 19,
      "outputs": [
        {
          "output_type": "stream",
          "name": "stdout",
          "text": [
            "PRACTICE MAKES PROGRESS\n"
          ]
        }
      ]
    },
    {
      "cell_type": "markdown",
      "source": [
        "Explanation:\n",
        "\n",
        "strip() removes whitespace\n",
        "\n",
        "upper() converts to uppercase\n",
        "\n",
        "replace() substitutes one word for another"
      ],
      "metadata": {
        "id": "x_247DdXBKCc"
      }
    },
    {
      "cell_type": "markdown",
      "source": [
        "c. Lengths"
      ],
      "metadata": {
        "id": "3rM8B3NPBMqV"
      }
    },
    {
      "cell_type": "code",
      "source": [
        "original_length = len(quote)\n",
        "formatted_length = len(formatted_quote)\n",
        "\n",
        "print(original_length)   # With spaces\n",
        "print(formatted_length)  # After formatting\n"
      ],
      "metadata": {
        "colab": {
          "base_uri": "https://localhost:8080/"
        },
        "id": "YLEoJvKOBQXp",
        "outputId": "69dcdf09-9522-42d0-b21f-1538683e523e"
      },
      "execution_count": 20,
      "outputs": [
        {
          "output_type": "stream",
          "name": "stdout",
          "text": [
            "24\n",
            "23\n"
          ]
        }
      ]
    }
  ]
}